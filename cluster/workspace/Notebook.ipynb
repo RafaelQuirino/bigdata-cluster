{
 "cells": [
  {
   "cell_type": "code",
   "execution_count": 1,
   "id": "044459d0-d9a7-4eb9-b180-cadd23e0f264",
   "metadata": {},
   "outputs": [
    {
     "name": "stdout",
     "output_type": "stream",
     "text": [
      "Requirement already satisfied: findspark in /usr/local/lib/python3.8/dist-packages (2.0.1)\n"
     ]
    }
   ],
   "source": [
    "!pip3 install findspark"
   ]
  },
  {
   "cell_type": "code",
   "execution_count": 1,
   "id": "0c876acd-a777-481f-a23a-6b93e0ff63f4",
   "metadata": {},
   "outputs": [],
   "source": [
    "import findspark\n",
    "findspark.init('/usr/spark')\n",
    "from pyspark.sql import SparkSession"
   ]
  },
  {
   "cell_type": "code",
   "execution_count": 2,
   "id": "9703e7ab-32b9-4f2b-bed2-9293ba798d1e",
   "metadata": {},
   "outputs": [
    {
     "name": "stderr",
     "output_type": "stream",
     "text": [
      "SLF4J: Class path contains multiple SLF4J bindings.\n",
      "SLF4J: Found binding in [jar:file:/usr/hadoop/share/hadoop/common/lib/slf4j-log4j12-1.7.25.jar!/org/slf4j/impl/StaticLoggerBinder.class]\n",
      "SLF4J: Found binding in [jar:file:/usr/hive/lib/log4j-slf4j-impl-2.6.2.jar!/org/slf4j/impl/StaticLoggerBinder.class]\n",
      "SLF4J: See http://www.slf4j.org/codes.html#multiple_bindings for an explanation.\n",
      "SLF4J: Actual binding is of type [org.slf4j.impl.Log4jLoggerFactory]\n",
      "Setting default log level to \"WARN\".\n",
      "To adjust logging level use sc.setLogLevel(newLevel). For SparkR, use setLogLevel(newLevel).\n"
     ]
    }
   ],
   "source": [
    "spark = SparkSession.builder.getOrCreate()"
   ]
  },
  {
   "cell_type": "code",
   "execution_count": 3,
   "id": "ea1dee30-d0a5-4482-88c7-0ad22767969b",
   "metadata": {},
   "outputs": [
    {
     "name": "stderr",
     "output_type": "stream",
     "text": [
      "2022-05-16 15:22:26,405 WARN hive.HiveUtils: Hive jar path '/usr/hadoop/share/hadoop/mapreduce/lib/*' does not exist.\n",
      "2022-05-16 15:22:26,406 WARN hive.HiveUtils: Hive jar path '/usr/hadoop/share/hadoop/yarn/timelineservice/*' does not exist.\n",
      "2022-05-16 15:22:26,651 WARN conf.HiveConf: HiveConf of name hive.server2.proxy.user does not exist\n",
      "2022-05-16 15:22:26,652 WARN conf.HiveConf: HiveConf of name hive.server2.enable.impersonation does not exist\n",
      "[Stage 0:>                                                          (0 + 1) / 1]\r"
     ]
    },
    {
     "name": "stdout",
     "output_type": "stream",
     "text": [
      "+---------+----------+-----------+-----+-----+-----+-----+-----+-----+\n",
      "|last name|first name|        ssn|test1|test2|test3|test4|final|grade|\n",
      "+---------+----------+-----------+-----+-----+-----+-----+-----+-----+\n",
      "|Last name|First name|        SSN| null| null| null| null| null|Grade|\n",
      "|  Alfalfa|  Aloysius|123-45-6789| 40.0|   90|100.0| 83.0| 49.0|   D-|\n",
      "|   Alfred|University|123-12-1234| 41.0|   97| 96.0| 97.0| 48.0|   D+|\n",
      "|    Gerty|    Gramma|567-89-0123| 41.0|   80| 60.0| 40.0| 44.0|    C|\n",
      "|  Android|  Electric|087-65-4321| 42.0|   23| 36.0| 45.0| 47.0|   B-|\n",
      "|  Bumpkin|      Fred|456-78-9012| 43.0|   78| 88.0| 77.0| 45.0|   A-|\n",
      "|   Rubble|     Betty|234-56-7890| 44.0|   90| 80.0| 90.0| 46.0|   C-|\n",
      "|   Noshow|     Cecil|345-67-8901| 45.0|   11| -1.0|  4.0| 43.0|    F|\n",
      "|     Buff|       Bif|632-79-9939| 46.0|   20| 30.0| 40.0| 50.0|   B+|\n",
      "|  Airpump|    Andrew|223-45-6789| 49.0|    1| 90.0|100.0| 83.0|    A|\n",
      "|   Backus|       Jim|143-12-1234| 48.0|    1| 97.0| 96.0| 97.0|   A+|\n",
      "|Carnivore|       Art|565-89-0123| 44.0|    1| 80.0| 60.0| 40.0|   D+|\n",
      "|    Dandy|       Jim|087-75-4321| 47.0|    1| 23.0| 36.0| 45.0|   C+|\n",
      "| Elephant|       Ima|456-71-9012| 45.0|    1| 78.0| 88.0| 77.0|   B-|\n",
      "| Franklin|     Benny|234-56-2890| 50.0|    1| 90.0| 80.0| 90.0|   B-|\n",
      "|   George|       Boy|345-67-3901| 40.0|    1| 11.0| -1.0|  4.0|    B|\n",
      "|Heffalump|    Harvey|632-79-9439| 30.0|    1| 20.0| 30.0| 40.0|    C|\n",
      "+---------+----------+-----------+-----+-----+-----+-----+-----+-----+\n",
      "\n"
     ]
    },
    {
     "name": "stderr",
     "output_type": "stream",
     "text": [
      "                                                                                \r"
     ]
    }
   ],
   "source": [
    "spark.sql('select * from grades').show()"
   ]
  },
  {
   "cell_type": "code",
   "execution_count": 5,
   "id": "feef3946-60b9-4f8d-a36f-d63f4b6fe984",
   "metadata": {},
   "outputs": [
    {
     "name": "stderr",
     "output_type": "stream",
     "text": [
      "[Stage 3:============================================>          (163 + 2) / 200]\r"
     ]
    },
    {
     "name": "stdout",
     "output_type": "stream",
     "text": [
      "+---------------+--------------------+\n",
      "|qtd_por_analito|          de_analito|\n",
      "+---------------+--------------------+\n",
      "|         104952| Resultado COVID-19:|\n",
      "|          79499|         Hematócrito|\n",
      "|          78374|         Hemoglobina|\n",
      "|          78074|           Plaquetas|\n",
      "|          76768|            Hemácias|\n",
      "|          76179|Volume Médio Plaq...|\n",
      "|          75789|  Dosagem de Glicose|\n",
      "|          75562|        Leucócitos #|\n",
      "|          75562|          Leucócitos|\n",
      "|          75509|                 VCM|\n",
      "|          75481|                CHCM|\n",
      "|          75476|                 HCM|\n",
      "|          75460|        Linfócitos #|\n",
      "|          75456|         Monócitos #|\n",
      "|          75436|          Linfócitos|\n",
      "|          75422|           Monócitos|\n",
      "|          75265|      Eosinófilos  #|\n",
      "|          75228|         Eosinófilos|\n",
      "|          75164|                 RDW|\n",
      "|          75109|         Basófilos #|\n",
      "+---------------+--------------------+\n",
      "only showing top 20 rows\n",
      "\n"
     ]
    },
    {
     "name": "stderr",
     "output_type": "stream",
     "text": [
      "                                                                                \r"
     ]
    }
   ],
   "source": [
    "spark.sql('''\n",
    "select count(*) as qtd_por_analito, e.de_analito\n",
    "from hiae.exames e inner join hiae.pacientes p on e.id_paciente = p.id_paciente\n",
    "where p.cd_uf = \"SP\"\n",
    "group by e.de_analito\n",
    "order by qtd_por_analito desc\n",
    "''').show()"
   ]
  },
  {
   "cell_type": "code",
   "execution_count": null,
   "id": "73125966-c7de-44a6-965e-5585c56fb801",
   "metadata": {},
   "outputs": [],
   "source": []
  }
 ],
 "metadata": {
  "kernelspec": {
   "display_name": "Python 3 (ipykernel)",
   "language": "python",
   "name": "python3"
  },
  "language_info": {
   "codemirror_mode": {
    "name": "ipython",
    "version": 3
   },
   "file_extension": ".py",
   "mimetype": "text/x-python",
   "name": "python",
   "nbconvert_exporter": "python",
   "pygments_lexer": "ipython3",
   "version": "3.8.10"
  }
 },
 "nbformat": 4,
 "nbformat_minor": 5
}
